{
  "nbformat": 4,
  "nbformat_minor": 0,
  "metadata": {
    "colab": {
      "provenance": []
    },
    "kernelspec": {
      "name": "python3",
      "display_name": "Python 3"
    },
    "language_info": {
      "name": "python"
    }
  },
  "cells": [
    {
      "cell_type": "code",
      "execution_count": 13,
      "metadata": {
        "colab": {
          "base_uri": "https://localhost:8080/"
        },
        "id": "jtP5WzEBxkhZ",
        "outputId": "c9f1ef6d-0bdb-43cf-82e9-dc46a40fd3aa"
      },
      "outputs": [
        {
          "output_type": "stream",
          "name": "stdout",
          "text": [
            "Drive already mounted at /content/drive; to attempt to forcibly remount, call drive.mount(\"/content/drive\", force_remount=True).\n"
          ]
        }
      ],
      "source": [
        "from google.colab import drive\n",
        "drive.mount('/content/drive')"
      ]
    },
    {
      "cell_type": "code",
      "source": [
        "import torch\n",
        "import torch.nn as nn\n",
        "import torch.optim as optim\n",
        "from torchvision import datasets, transforms\n",
        "from torch.utils.data import DataLoader\n",
        "from sklearn.metrics import accuracy_score, precision_score, recall_score, f1_score, confusion_matrix, classification_report\n"
      ],
      "metadata": {
        "id": "nmJderjtxx_M"
      },
      "execution_count": 14,
      "outputs": []
    },
    {
      "cell_type": "code",
      "source": [
        "# Örnek bir CNN modeli oluşturalım\n",
        "class CNN(nn.Module):\n",
        "    def __init__(self):\n",
        "        super(CNN, self).__init__()\n",
        "        self.conv1 = nn.Conv2d(in_channels=3, out_channels=16, kernel_size=3, stride=1, padding=1)\n",
        "        self.conv2 = nn.Conv2d(in_channels=16, out_channels=32, kernel_size=3, stride=1, padding=1)\n",
        "        self.fc1 = nn.Linear(32 * 56 * 56, 128)\n",
        "        self.fc2 = nn.Linear(128, 2)  # Sınıf sayısı 2 olsun (örneğin, binary classification)\n",
        "\n",
        "    def forward(self, x):\n",
        "        x = nn.functional.relu(self.conv1(x))\n",
        "        x = nn.functional.max_pool2d(x, 2, 2)\n",
        "        x = nn.functional.relu(self.conv2(x))\n",
        "        x = nn.functional.max_pool2d(x, 2, 2)\n",
        "        x = x.view(-1, 32 * 56 * 56)  # Gerekirse boyutları yeniden ayarlayın\n",
        "        x = nn.functional.relu(self.fc1(x))\n",
        "        x = self.fc2(x)\n",
        "        return x"
      ],
      "metadata": {
        "id": "ATODFW0ixz7Z"
      },
      "execution_count": 15,
      "outputs": []
    },
    {
      "cell_type": "code",
      "source": [
        "# Veri setini yükleyelim ve bölelim (örneğin, train, validation, test olarak)\n",
        "def load_data():\n",
        "    transform = transforms.Compose([\n",
        "        transforms.Resize((224, 224)),\n",
        "        transforms.ToTensor(),\n",
        "        transforms.Normalize(mean=[0.485, 0.456, 0.406], std=[0.229, 0.224, 0.225])\n",
        "    ])\n",
        "\n",
        "    data_transform = datasets.ImageFolder(root='/content/drive/MyDrive/Colab Notebooks/Pneumonia/X-Ray', transform=transform)\n",
        "\n",
        "    # Veri setini train, validation, test olarak bölecek şekilde ayarlayın\n",
        "    train_size = int(0.75 * len(data_transform))  # %75 train\n",
        "    test_size = len(data_transform) - train_size  # Geri kalan %25 test\n",
        "    val_size = int(0.1 * train_size)  # %10 validation\n",
        "\n",
        "    train_data, test_data = torch.utils.data.random_split(data_transform, [train_size, test_size])\n",
        "    train_data, val_data = torch.utils.data.random_split(train_data, [train_size - val_size, val_size])\n",
        "\n",
        "    train_loader = DataLoader(train_data, batch_size=32, shuffle=True)\n",
        "    val_loader = DataLoader(val_data, batch_size=32)\n",
        "    test_loader = DataLoader(test_data, batch_size=32)\n",
        "\n",
        "    return train_loader, val_loader, test_loader\n"
      ],
      "metadata": {
        "id": "-jvZCzKhx1-_"
      },
      "execution_count": 16,
      "outputs": []
    },
    {
      "cell_type": "code",
      "source": [
        "# CNN modelini eğitme ve değerlendirme fonksiyonu\n",
        "def train_evaluate_cnn(model, train_loader, val_loader, test_loader, epochs=5):\n",
        "    device = torch.device(\"cuda\" if torch.cuda.is_available() else \"cpu\")\n",
        "    model.to(device)\n",
        "\n",
        "    criterion = nn.CrossEntropyLoss()\n",
        "    optimizer = optim.Adam(model.parameters(), lr=0.001)\n",
        "\n",
        "    for epoch in range(epochs):\n",
        "        # Eğitim aşaması\n",
        "        model.train()\n",
        "        for inputs, labels in train_loader:\n",
        "            inputs, labels = inputs.to(device), labels.to(device)\n",
        "            optimizer.zero_grad()\n",
        "            outputs = model(inputs)\n",
        "            loss = criterion(outputs, labels)\n",
        "            loss.backward()\n",
        "            optimizer.step()\n",
        "\n",
        "        # Doğrulama aşaması\n",
        "        model.eval()\n",
        "        total_val, correct_val = 0, 0\n",
        "        for inputs, labels in val_loader:\n",
        "            inputs, labels = inputs.to(device), labels.to(device)\n",
        "            outputs = model(inputs)\n",
        "            _, predicted = torch.max(outputs.data, 1)\n",
        "            total_val += labels.size(0)\n",
        "            correct_val += (predicted == labels).sum().item()\n",
        "\n",
        "        val_accuracy = 100 * correct_val / total_val\n",
        "        print(f\"Epoch {epoch + 1}/{epochs}, Validation Accuracy: {val_accuracy:.2f}%\")\n",
        "\n",
        "    # Test aşaması\n",
        "    model.eval()\n",
        "    total_test, correct_test = 0, 0\n",
        "    true_labels, predicted_labels = [], []\n",
        "    with torch.no_grad():\n",
        "        for inputs, labels in test_loader:\n",
        "            inputs, labels = inputs.to(device), labels.to(device)\n",
        "            outputs = model(inputs)\n",
        "            _, predicted = torch.max(outputs.data, 1)\n",
        "            total_test += labels.size(0)\n",
        "            correct_test += (predicted == labels).sum().item()\n",
        "\n",
        "            true_labels.extend(labels.cpu().numpy())\n",
        "            predicted_labels.extend(predicted.cpu().numpy())\n",
        "\n",
        "    test_accuracy = 100 * correct_test / total_test\n",
        "    print(f\"Test Accuracy: {test_accuracy:.2f}%\")\n",
        "\n",
        "    # Accuracy, Precision, Recall, F1 Score, Confusion Matrix, Classification Report\n",
        "    print(f\"Accuracy: {accuracy_score(true_labels, predicted_labels)}\")\n",
        "    print(f\"Precision: {precision_score(true_labels, predicted_labels)}\")\n",
        "    print(f\"Recall: {recall_score(true_labels, predicted_labels)}\")\n",
        "    print(f\"F1 Score: {f1_score(true_labels, predicted_labels)}\")\n",
        "    print(f\"Confusion Matrix:\\n{confusion_matrix(true_labels, predicted_labels)}\")\n",
        "    print(f\"Classification Report:\\n{classification_report(true_labels, predicted_labels)}\")\n"
      ],
      "metadata": {
        "id": "f5gIpTp-x51f"
      },
      "execution_count": 17,
      "outputs": []
    },
    {
      "cell_type": "code",
      "source": [
        "# Veri setini yükleyin ve eğitim ve değerlendirme fonksiyonunu çağırın\n",
        "train_loader, val_loader, test_loader = load_data()\n",
        "cnn_model = CNN()\n",
        "train_evaluate_cnn(cnn_model, train_loader, val_loader, test_loader)"
      ],
      "metadata": {
        "colab": {
          "base_uri": "https://localhost:8080/"
        },
        "id": "dxgeVlO6x8BY",
        "outputId": "13925ebc-393d-4398-9e00-fbd6c40a078f"
      },
      "execution_count": 18,
      "outputs": [
        {
          "output_type": "stream",
          "name": "stdout",
          "text": [
            "Epoch 1/5, Validation Accuracy: 82.51%\n",
            "Epoch 2/5, Validation Accuracy: 94.88%\n",
            "Epoch 3/5, Validation Accuracy: 98.35%\n",
            "Epoch 4/5, Validation Accuracy: 98.35%\n",
            "Epoch 5/5, Validation Accuracy: 98.35%\n",
            "Test Accuracy: 98.14%\n",
            "Accuracy: 0.9814448292924295\n",
            "Precision: 0.9820742637644047\n",
            "Recall: 0.9702719797596457\n",
            "F1 Score: 0.9761374482978047\n",
            "Confusion Matrix:\n",
            "[[2433   28]\n",
            " [  47 1534]]\n",
            "Classification Report:\n",
            "              precision    recall  f1-score   support\n",
            "\n",
            "           0       0.98      0.99      0.98      2461\n",
            "           1       0.98      0.97      0.98      1581\n",
            "\n",
            "    accuracy                           0.98      4042\n",
            "   macro avg       0.98      0.98      0.98      4042\n",
            "weighted avg       0.98      0.98      0.98      4042\n",
            "\n"
          ]
        }
      ]
    }
  ]
}