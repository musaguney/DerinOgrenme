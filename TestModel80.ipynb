{
  "nbformat": 4,
  "nbformat_minor": 0,
  "metadata": {
    "colab": {
      "provenance": []
    },
    "kernelspec": {
      "name": "python3",
      "display_name": "Python 3"
    },
    "language_info": {
      "name": "python"
    }
  },
  "cells": [
    {
      "cell_type": "code",
      "source": [
        "from google.colab import drive\n",
        "drive.mount('/content/drive')"
      ],
      "metadata": {
        "colab": {
          "base_uri": "https://localhost:8080/"
        },
        "id": "AHSC0adMuZj3",
        "outputId": "54dd4027-de11-47ab-822c-6f746092e575"
      },
      "execution_count": 77,
      "outputs": [
        {
          "output_type": "stream",
          "name": "stdout",
          "text": [
            "Drive already mounted at /content/drive; to attempt to forcibly remount, call drive.mount(\"/content/drive\", force_remount=True).\n"
          ]
        }
      ]
    },
    {
      "cell_type": "code",
      "source": [
        "import torch\n",
        "import torch.nn as nn\n",
        "import torch.optim as optim\n",
        "from torchvision import datasets, transforms\n",
        "from torch.utils.data import DataLoader\n",
        "from sklearn.metrics import accuracy_score, precision_score, recall_score, f1_score, confusion_matrix, classification_report\n"
      ],
      "metadata": {
        "id": "4BoWEeX-0mF2"
      },
      "execution_count": 78,
      "outputs": []
    },
    {
      "cell_type": "code",
      "source": [
        "class CNN(nn.Module):\n",
        "    def __init__(self):\n",
        "        super(CNN, self).__init__()\n",
        "        self.conv1 = nn.Conv2d(in_channels=3, out_channels=16, kernel_size=3, stride=1, padding=1)\n",
        "        self.conv2 = nn.Conv2d(in_channels=16, out_channels=32, kernel_size=3, stride=1, padding=1)\n",
        "        self.fc1 = nn.Linear(32 * 56 * 56, 128)\n",
        "        self.fc2 = nn.Linear(128, 2)\n",
        "\n",
        "    def forward(self, x):\n",
        "        x = nn.functional.relu(self.conv1(x))\n",
        "        x = nn.functional.max_pool2d(x, 2, 2)\n",
        "        x = nn.functional.relu(self.conv2(x))\n",
        "        x = nn.functional.max_pool2d(x, 2, 2)\n",
        "        x = x.view(-1, 32 * 56 * 56)\n",
        "        x = nn.functional.relu(self.fc1(x))\n",
        "        x = self.fc2(x)\n",
        "        return x\n"
      ],
      "metadata": {
        "id": "S9s_Ws3Bt3-h"
      },
      "execution_count": 79,
      "outputs": []
    },
    {
      "cell_type": "code",
      "source": [
        "def load_data():\n",
        "    transform = transforms.Compose([\n",
        "        transforms.Resize((224, 224)),\n",
        "        transforms.ToTensor(),\n",
        "        transforms.Normalize(mean=[0.485, 0.456, 0.406], std=[0.229, 0.224, 0.225])\n",
        "    ])\n",
        "\n",
        "    data_transform = datasets.ImageFolder(root='/content/drive/MyDrive/Pneumonia/X-Ray', transform=transform)\n",
        "\n",
        "    # Veri setini train, validation, test olarak bölecek şekilde ayarlayın\n",
        "    train_size = int(0.8 * len(data_transform))  # %80 train\n",
        "    test_size = len(data_transform) - train_size  # Geri kalan %20 test\n",
        "    val_size = int(0.1 * train_size)  # %10 validation\n",
        "\n",
        "    train_data, test_data = torch.utils.data.random_split(data_transform, [train_size, test_size])\n",
        "    train_data, val_data = torch.utils.data.random_split(train_data, [train_size - val_size, val_size])\n",
        "\n",
        "    train_loader = DataLoader(train_data, batch_size=32, shuffle=True)\n",
        "    val_loader = DataLoader(val_data, batch_size=32)\n",
        "    test_loader = DataLoader(test_data, batch_size=32)\n",
        "\n",
        "    return train_loader, val_loader, test_loader\n"
      ],
      "metadata": {
        "id": "Hbl1icYFt7wN"
      },
      "execution_count": 80,
      "outputs": []
    },
    {
      "cell_type": "code",
      "source": [
        "# CNN modelini eğitme ve değerlendirme fonksiyonu\n",
        "def train_evaluate_cnn(model, train_loader, val_loader, test_loader, epochs=5):\n",
        "    device = torch.device(\"cuda\" if torch.cuda.is_available() else \"cpu\")\n",
        "    model.to(device)\n",
        "\n",
        "    criterion = nn.CrossEntropyLoss()\n",
        "    optimizer = optim.Adam(model.parameters(), lr=0.001)\n",
        "\n",
        "    for epoch in range(epochs):\n",
        "        # Eğitim aşaması\n",
        "        model.train()\n",
        "        for inputs, labels in train_loader:\n",
        "            inputs, labels = inputs.to(device), labels.to(device)\n",
        "            optimizer.zero_grad()\n",
        "            outputs = model(inputs)\n",
        "            loss = criterion(outputs, labels)\n",
        "            loss.backward()\n",
        "            optimizer.step()\n",
        "\n",
        "        # Doğrulama aşaması\n",
        "        model.eval()\n",
        "        total_val, correct_val = 0, 0\n",
        "        for inputs, labels in val_loader:\n",
        "            inputs, labels = inputs.to(device), labels.to(device)\n",
        "            outputs = model(inputs)\n",
        "            _, predicted = torch.max(outputs.data, 1)\n",
        "            total_val += labels.size(0)\n",
        "            correct_val += (predicted == labels).sum().item()\n",
        "\n",
        "        val_accuracy = 100 * correct_val / total_val\n",
        "        print(f\"Epoch {epoch + 1}/{epochs}, Validation Accuracy: {val_accuracy:.2f}%\")\n",
        "\n",
        "\n",
        "    # Test aşaması\n",
        "    model.eval()\n",
        "    total_test, correct_test = 0, 0\n",
        "    true_labels, predicted_labels = [], []\n",
        "    with torch.no_grad():\n",
        "        for inputs, labels in test_loader:\n",
        "            inputs, labels = inputs.to(device), labels.to(device)\n",
        "            outputs = model(inputs)\n",
        "            _, predicted = torch.max(outputs.data, 1)\n",
        "            total_test += labels.size(0)\n",
        "            correct_test += (predicted == labels).sum().item()\n",
        "\n",
        "            true_labels.extend(labels.cpu().numpy())\n",
        "            predicted_labels.extend(predicted.cpu().numpy())\n",
        "\n",
        "    test_accuracy = 100 * correct_test / total_test\n",
        "    print(f\"Test Accuracy: {test_accuracy:.2f}%\")\n",
        "\n",
        "    # Accuracy, Precision, Recall, F1 Score, Confusion Matrix, Classification Report\n",
        "    print(f\"Accuracy: {accuracy_score(true_labels, predicted_labels)}\")\n",
        "    print(f\"Precision: {precision_score(true_labels, predicted_labels)}\")\n",
        "    print(f\"Recall: {recall_score(true_labels, predicted_labels)}\")\n",
        "    print(f\"F1 Score: {f1_score(true_labels, predicted_labels)}\")\n",
        "    print(f\"Confusion Matrix:\\n{confusion_matrix(true_labels, predicted_labels)}\")\n",
        "    print(f\"Classification Report:\\n{classification_report(true_labels, predicted_labels)}\")\n",
        "\n",
        ""
      ],
      "metadata": {
        "id": "Q21rOCo12dt3"
      },
      "execution_count": 81,
      "outputs": []
    },
    {
      "cell_type": "code",
      "source": [
        "# load_data() fonksiyonunu kullanarak veri kümesini yükleyin ve ayırın\n",
        "train_loader, val_loader, test_loader = load_data()\n",
        "cnn_model = CNN()\n",
        "train_evaluate_cnn(cnn_model, train_loader, val_loader, test_loader)\n"
      ],
      "metadata": {
        "colab": {
          "base_uri": "https://localhost:8080/"
        },
        "id": "Mv5X6gfP1XXj",
        "outputId": "1b186735-a750-4f59-9a24-ec40a89ef6d4"
      },
      "execution_count": 82,
      "outputs": [
        {
          "output_type": "stream",
          "name": "stdout",
          "text": [
            "Epoch 1/5, Validation Accuracy: 81.76%\n",
            "Epoch 2/5, Validation Accuracy: 88.56%\n",
            "Epoch 3/5, Validation Accuracy: 96.06%\n",
            "Epoch 4/5, Validation Accuracy: 98.07%\n",
            "Epoch 5/5, Validation Accuracy: 98.69%\n",
            "Test Accuracy: 98.79%\n",
            "Accuracy: 0.9879480840543882\n",
            "Precision: 0.9825535289452815\n",
            "Recall: 0.9864649681528662\n",
            "F1 Score: 0.9845053635280095\n",
            "Confusion Matrix:\n",
            "[[1958   22]\n",
            " [  17 1239]]\n",
            "Classification Report:\n",
            "              precision    recall  f1-score   support\n",
            "\n",
            "           0       0.99      0.99      0.99      1980\n",
            "           1       0.98      0.99      0.98      1256\n",
            "\n",
            "    accuracy                           0.99      3236\n",
            "   macro avg       0.99      0.99      0.99      3236\n",
            "weighted avg       0.99      0.99      0.99      3236\n",
            "\n"
          ]
        }
      ]
    }
  ]
}