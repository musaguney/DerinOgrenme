{
  "nbformat": 4,
  "nbformat_minor": 0,
  "metadata": {
    "colab": {
      "provenance": [],
      "gpuType": "T4"
    },
    "kernelspec": {
      "name": "python3",
      "display_name": "Python 3"
    },
    "language_info": {
      "name": "python"
    },
    "accelerator": "GPU"
  },
  "cells": [
    {
      "cell_type": "code",
      "source": [
        "from google.colab import drive\n",
        "drive.mount('/content/drive')"
      ],
      "metadata": {
        "colab": {
          "base_uri": "https://localhost:8080/"
        },
        "id": "O5XPFKacRFiw",
        "outputId": "467f297e-4f25-4f70-fb58-df71b0121315"
      },
      "execution_count": 1,
      "outputs": [
        {
          "output_type": "stream",
          "name": "stdout",
          "text": [
            "Drive already mounted at /content/drive; to attempt to forcibly remount, call drive.mount(\"/content/drive\", force_remount=True).\n"
          ]
        }
      ]
    },
    {
      "cell_type": "code",
      "execution_count": 2,
      "metadata": {
        "id": "maq6bAa2vlGi"
      },
      "outputs": [],
      "source": [
        "import numpy as np\n",
        "from keras.preprocessing.image import ImageDataGenerator\n",
        "from keras.applications import VGG16\n",
        "from keras.models import Sequential\n",
        "from keras.layers import Dense, Flatten, Dropout\n",
        "from keras.optimizers import Adam"
      ]
    },
    {
      "cell_type": "code",
      "source": [
        "# Veri setinin bulunduğu dizin\n",
        "data_directory = '/content/drive/MyDrive/Colab Notebooks/Pneumonia/X-Ray'"
      ],
      "metadata": {
        "id": "9wxEH97ivrWq"
      },
      "execution_count": 3,
      "outputs": []
    },
    {
      "cell_type": "code",
      "source": [
        "# Önceden eğitilmiş modelin yüklenmesi\n",
        "pretrained_model = VGG16(weights='imagenet', include_top=False, input_shape=(150, 150, 3))\n"
      ],
      "metadata": {
        "id": "iKicFx_Yvs8v",
        "colab": {
          "base_uri": "https://localhost:8080/"
        },
        "outputId": "9829482a-4142-4c37-deec-d107cb70c32d"
      },
      "execution_count": 4,
      "outputs": [
        {
          "output_type": "stream",
          "name": "stdout",
          "text": [
            "Downloading data from https://storage.googleapis.com/tensorflow/keras-applications/vgg16/vgg16_weights_tf_dim_ordering_tf_kernels_notop.h5\n",
            "58889256/58889256 [==============================] - 3s 0us/step\n"
          ]
        }
      ]
    },
    {
      "cell_type": "code",
      "source": [
        "# Önceden eğitilmiş modelin üzerine özel katmanların eklenmesi\n",
        "model = Sequential()\n",
        "model.add(pretrained_model)\n",
        "model.add(Flatten())\n",
        "model.add(Dense(256, activation='relu'))\n",
        "model.add(Dropout(0.5))\n",
        "model.add(Dense(1, activation='sigmoid'))\n"
      ],
      "metadata": {
        "id": "PZXEJcpxvuS5"
      },
      "execution_count": 5,
      "outputs": []
    },
    {
      "cell_type": "code",
      "source": [
        "# Önceden eğitilmiş katmanların dondurulması\n",
        "pretrained_model.trainable = False\n"
      ],
      "metadata": {
        "id": "xNEdW-Q2vvnB"
      },
      "execution_count": 6,
      "outputs": []
    },
    {
      "cell_type": "code",
      "source": [
        "# Modelin derlenmesi\n",
        "model.compile(optimizer=Adam(learning_rate=0.0001), loss='binary_crossentropy', metrics=['accuracy'])\n"
      ],
      "metadata": {
        "id": "FS94LSXyvw3S"
      },
      "execution_count": 7,
      "outputs": []
    },
    {
      "cell_type": "code",
      "source": [
        "# Veri artırma (data augmentation) işlemi\n",
        "datagen = ImageDataGenerator(rescale=1./255, validation_split=0.2)\n"
      ],
      "metadata": {
        "id": "o4nNX8VrvyPl"
      },
      "execution_count": 8,
      "outputs": []
    },
    {
      "cell_type": "code",
      "source": [
        "# Veri setinin yüklenmesi\n",
        "train_generator = datagen.flow_from_directory(\n",
        "        data_directory,\n",
        "        target_size=(150, 150),\n",
        "        batch_size=32,\n",
        "        class_mode='binary',\n",
        "        subset='training')\n",
        "\n",
        "validation_generator = datagen.flow_from_directory(\n",
        "        data_directory,\n",
        "        target_size=(150, 150),\n",
        "        batch_size=32,\n",
        "        class_mode='binary',\n",
        "        subset='validation')\n"
      ],
      "metadata": {
        "id": "oxX4SLaVv0mT",
        "colab": {
          "base_uri": "https://localhost:8080/"
        },
        "outputId": "70ea1d5b-725a-4463-8a13-6eba6edabe30"
      },
      "execution_count": 9,
      "outputs": [
        {
          "output_type": "stream",
          "name": "stdout",
          "text": [
            "Found 12934 images belonging to 2 classes.\n",
            "Found 3233 images belonging to 2 classes.\n"
          ]
        }
      ]
    },
    {
      "cell_type": "code",
      "source": [
        "# Modelin eğitimi\n",
        "history = model.fit(\n",
        "      train_generator,\n",
        "      steps_per_epoch=train_generator.samples/train_generator.batch_size,\n",
        "      epochs=10,\n",
        "      validation_data=validation_generator,\n",
        "      validation_steps=validation_generator.samples/validation_generator.batch_size)\n"
      ],
      "metadata": {
        "id": "xu1sPTJnv2Ep",
        "colab": {
          "base_uri": "https://localhost:8080/"
        },
        "outputId": "0f7891b9-fd09-469e-82d0-5c68fa1677e8"
      },
      "execution_count": 10,
      "outputs": [
        {
          "output_type": "stream",
          "name": "stdout",
          "text": [
            "Epoch 1/10\n",
            "404/404 [==============================] - 3857s 9s/step - loss: 0.5448 - accuracy: 0.7333 - val_loss: 0.5072 - val_accuracy: 0.7597\n",
            "Epoch 2/10\n",
            "404/404 [==============================] - 99s 246ms/step - loss: 0.4853 - accuracy: 0.7723 - val_loss: 0.4932 - val_accuracy: 0.7714\n",
            "Epoch 3/10\n",
            "404/404 [==============================] - 101s 249ms/step - loss: 0.4556 - accuracy: 0.7956 - val_loss: 0.4755 - val_accuracy: 0.7869\n",
            "Epoch 4/10\n",
            "404/404 [==============================] - 101s 250ms/step - loss: 0.4290 - accuracy: 0.8053 - val_loss: 0.4660 - val_accuracy: 0.7955\n",
            "Epoch 5/10\n",
            "404/404 [==============================] - 99s 245ms/step - loss: 0.4085 - accuracy: 0.8175 - val_loss: 0.4615 - val_accuracy: 0.7943\n",
            "Epoch 6/10\n",
            "404/404 [==============================] - 100s 248ms/step - loss: 0.3849 - accuracy: 0.8328 - val_loss: 0.4302 - val_accuracy: 0.8138\n",
            "Epoch 7/10\n",
            "404/404 [==============================] - 101s 250ms/step - loss: 0.3585 - accuracy: 0.8443 - val_loss: 0.4182 - val_accuracy: 0.8184\n",
            "Epoch 8/10\n",
            "404/404 [==============================] - 99s 246ms/step - loss: 0.3373 - accuracy: 0.8584 - val_loss: 0.4104 - val_accuracy: 0.8302\n",
            "Epoch 9/10\n",
            "404/404 [==============================] - 99s 244ms/step - loss: 0.3177 - accuracy: 0.8687 - val_loss: 0.3970 - val_accuracy: 0.8299\n",
            "Epoch 10/10\n",
            "404/404 [==============================] - 102s 252ms/step - loss: 0.2960 - accuracy: 0.8818 - val_loss: 0.3774 - val_accuracy: 0.8388\n"
          ]
        }
      ]
    },
    {
      "cell_type": "code",
      "source": [
        "# Test verisi için sadece rescale (ölçeklendirme) işlemi yapma\n",
        "test_generator = datagen.flow_from_directory(\n",
        "        data_directory,\n",
        "        target_size=(150, 150),\n",
        "        batch_size=32,\n",
        "        class_mode='binary',\n",
        "        shuffle=False)\n"
      ],
      "metadata": {
        "id": "n2TXk3K0v3W1",
        "colab": {
          "base_uri": "https://localhost:8080/"
        },
        "outputId": "4c0f05fb-f220-443d-8259-0c3464901b99"
      },
      "execution_count": 11,
      "outputs": [
        {
          "output_type": "stream",
          "name": "stdout",
          "text": [
            "Found 16167 images belonging to 2 classes.\n"
          ]
        }
      ]
    },
    {
      "cell_type": "code",
      "source": [
        "# Test seti üzerinde modelin performansını değerlendirme\n",
        "eval_result = model.evaluate(test_generator)\n",
        "print(\"Test doğruluk oranı:\", eval_result[1])  # Test doğruluk oranını yazdırma\n"
      ],
      "metadata": {
        "id": "EU_hQRZWv4oM",
        "colab": {
          "base_uri": "https://localhost:8080/"
        },
        "outputId": "3a3b4080-fdf1-4b6b-d6a8-708dd5630fd4"
      },
      "execution_count": 12,
      "outputs": [
        {
          "output_type": "stream",
          "name": "stdout",
          "text": [
            "506/506 [==============================] - 107s 212ms/step - loss: 0.2842 - accuracy: 0.8880\n",
            "Test doğruluk oranı: 0.8880435228347778\n"
          ]
        }
      ]
    }
  ]
}